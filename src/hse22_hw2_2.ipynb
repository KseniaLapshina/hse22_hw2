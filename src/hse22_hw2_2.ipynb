{
  "nbformat": 4,
  "nbformat_minor": 0,
  "metadata": {
    "colab": {
      "provenance": [],
      "authorship_tag": "ABX9TyOkj6I1o1rzqbbwa4P9fmRI",
      "include_colab_link": true
    },
    "kernelspec": {
      "name": "python3",
      "display_name": "Python 3"
    },
    "language_info": {
      "name": "python"
    }
  },
  "cells": [
    {
      "cell_type": "markdown",
      "metadata": {
        "id": "view-in-github",
        "colab_type": "text"
      },
      "source": [
        "<a href=\"https://colab.research.google.com/github/KseniaLapshina/hse22_hw2/blob/main/src/hse22_hw2_2.ipynb\" target=\"_parent\"><img src=\"https://colab.research.google.com/assets/colab-badge.svg\" alt=\"Open In Colab\"/></a>"
      ]
    },
    {
      "cell_type": "markdown",
      "source": [
        "# Скачивание данных и установка программ."
      ],
      "metadata": {
        "id": "LxxzDWlCf4Kr"
      }
    },
    {
      "cell_type": "code",
      "source": [
        "!wget https://raw.githubusercontent.com/KseniaLapshina/hse22_hw1/main/data/scaffolds.fa"
      ],
      "metadata": {
        "colab": {
          "base_uri": "https://localhost:8080/"
        },
        "id": "5XCWLhpAgOR_",
        "outputId": "6aabfd2a-be97-46c1-be2c-c0d611e3850d"
      },
      "execution_count": 1,
      "outputs": [
        {
          "output_type": "stream",
          "name": "stdout",
          "text": [
            "--2022-10-19 02:02:21--  https://raw.githubusercontent.com/KseniaLapshina/hse22_hw1/main/data/scaffolds.fa\n",
            "Resolving raw.githubusercontent.com (raw.githubusercontent.com)... 185.199.108.133, 185.199.109.133, 185.199.110.133, ...\n",
            "Connecting to raw.githubusercontent.com (raw.githubusercontent.com)|185.199.108.133|:443... connected.\n",
            "HTTP request sent, awaiting response... 200 OK\n",
            "Length: 3972818 (3.8M) [text/plain]\n",
            "Saving to: ‘scaffolds.fa’\n",
            "\n",
            "scaffolds.fa        100%[===================>]   3.79M  --.-KB/s    in 0.03s   \n",
            "\n",
            "2022-10-19 02:02:21 (137 MB/s) - ‘scaffolds.fa’ saved [3972818/3972818]\n",
            "\n"
          ]
        }
      ]
    },
    {
      "cell_type": "code",
      "execution_count": 2,
      "metadata": {
        "colab": {
          "base_uri": "https://localhost:8080/"
        },
        "id": "31z8dEdnfyGR",
        "outputId": "0aac1989-0d75-4768-ad04-c26ce7e3d7f6"
      },
      "outputs": [
        {
          "output_type": "stream",
          "name": "stdout",
          "text": [
            "--2022-10-19 02:02:26--  https://raw.githubusercontent.com/KseniaLapshina/hse22_hw2/main/data/gms2.lst\n",
            "Resolving raw.githubusercontent.com (raw.githubusercontent.com)... 185.199.108.133, 185.199.109.133, 185.199.110.133, ...\n",
            "Connecting to raw.githubusercontent.com (raw.githubusercontent.com)|185.199.108.133|:443... connected.\n",
            "HTTP request sent, awaiting response... 200 OK\n",
            "Length: 220784 (216K) [text/plain]\n",
            "Saving to: ‘gms2.lst’\n",
            "\n",
            "\rgms2.lst              0%[                    ]       0  --.-KB/s               \rgms2.lst            100%[===================>] 215.61K  --.-KB/s    in 0.008s  \n",
            "\n",
            "2022-10-19 02:02:27 (24.9 MB/s) - ‘gms2.lst’ saved [220784/220784]\n",
            "\n"
          ]
        }
      ],
      "source": [
        "!wget https://raw.githubusercontent.com/KseniaLapshina/hse22_hw2/main/data/gms2.lst"
      ]
    },
    {
      "cell_type": "code",
      "source": [
        "!wget https://raw.githubusercontent.com/KseniaLapshina/hse22_hw2/main/data/proteins.fasta"
      ],
      "metadata": {
        "colab": {
          "base_uri": "https://localhost:8080/"
        },
        "id": "nbZlcHUEgWFf",
        "outputId": "e729ae60-7c26-4316-a1f7-adf375e37cac"
      },
      "execution_count": 3,
      "outputs": [
        {
          "output_type": "stream",
          "name": "stdout",
          "text": [
            "--2022-10-19 02:02:43--  https://raw.githubusercontent.com/KseniaLapshina/hse22_hw2/main/data/proteins.fasta\n",
            "Resolving raw.githubusercontent.com (raw.githubusercontent.com)... 185.199.108.133, 185.199.109.133, 185.199.110.133, ...\n",
            "Connecting to raw.githubusercontent.com (raw.githubusercontent.com)|185.199.108.133|:443... connected.\n",
            "HTTP request sent, awaiting response... 200 OK\n",
            "Length: 1403428 (1.3M) [text/plain]\n",
            "Saving to: ‘proteins.fasta’\n",
            "\n",
            "proteins.fasta      100%[===================>]   1.34M  --.-KB/s    in 0.02s   \n",
            "\n",
            "2022-10-19 02:02:44 (64.0 MB/s) - ‘proteins.fasta’ saved [1403428/1403428]\n",
            "\n"
          ]
        }
      ]
    },
    {
      "cell_type": "code",
      "source": [
        "!wget https://raw.githubusercontent.com/KseniaLapshina/hse22_hw2/main/data/scaffolds.hits_from_MIL_1.txt"
      ],
      "metadata": {
        "colab": {
          "base_uri": "https://localhost:8080/"
        },
        "id": "ViLRjxYNgZ25",
        "outputId": "a0e4975f-d523-4332-b953-b18e034eddc5"
      },
      "execution_count": 4,
      "outputs": [
        {
          "output_type": "stream",
          "name": "stdout",
          "text": [
            "--2022-10-19 02:02:47--  https://raw.githubusercontent.com/KseniaLapshina/hse22_hw2/main/data/scaffolds.hits_from_MIL_1.txt\n",
            "Resolving raw.githubusercontent.com (raw.githubusercontent.com)... 185.199.109.133, 185.199.110.133, 185.199.108.133, ...\n",
            "Connecting to raw.githubusercontent.com (raw.githubusercontent.com)|185.199.109.133|:443... connected.\n",
            "HTTP request sent, awaiting response... 200 OK\n",
            "Length: 872554 (852K) [text/plain]\n",
            "Saving to: ‘scaffolds.hits_from_MIL_1.txt’\n",
            "\n",
            "scaffolds.hits_from 100%[===================>] 852.10K  --.-KB/s    in 0.02s   \n",
            "\n",
            "2022-10-19 02:02:47 (50.7 MB/s) - ‘scaffolds.hits_from_MIL_1.txt’ saved [872554/872554]\n",
            "\n"
          ]
        }
      ]
    },
    {
      "cell_type": "code",
      "source": [
        "!wget https://raw.githubusercontent.com/KseniaLapshina/hse22_hw2/main/data/scaffolds.hits_from_SwissProt.txt"
      ],
      "metadata": {
        "colab": {
          "base_uri": "https://localhost:8080/"
        },
        "id": "58ztTrfLgd6n",
        "outputId": "800edd00-48ad-44cd-dd02-de29a5728f04"
      },
      "execution_count": 5,
      "outputs": [
        {
          "output_type": "stream",
          "name": "stdout",
          "text": [
            "--2022-10-19 02:02:51--  https://raw.githubusercontent.com/KseniaLapshina/hse22_hw2/main/data/scaffolds.hits_from_SwissProt.txt\n",
            "Resolving raw.githubusercontent.com (raw.githubusercontent.com)... 185.199.108.133, 185.199.109.133, 185.199.110.133, ...\n",
            "Connecting to raw.githubusercontent.com (raw.githubusercontent.com)|185.199.108.133|:443... connected.\n",
            "HTTP request sent, awaiting response... 200 OK\n",
            "Length: 65403 (64K) [text/plain]\n",
            "Saving to: ‘scaffolds.hits_from_SwissProt.txt’\n",
            "\n",
            "scaffolds.hits_from 100%[===================>]  63.87K  --.-KB/s    in 0.004s  \n",
            "\n",
            "2022-10-19 02:02:51 (15.8 MB/s) - ‘scaffolds.hits_from_SwissProt.txt’ saved [65403/65403]\n",
            "\n"
          ]
        }
      ]
    },
    {
      "cell_type": "markdown",
      "source": [
        "Скачивание генома близкородственной бактерии T.oleivorans."
      ],
      "metadata": {
        "id": "AoIavyjZhPYb"
      }
    },
    {
      "cell_type": "code",
      "source": [
        "!sh -c \"$(curl -fsSL ftp://ftp.ncbi.nlm.nih.gov/entrez/entrezdirect/install-edirect.sh)\""
      ],
      "metadata": {
        "colab": {
          "base_uri": "https://localhost:8080/"
        },
        "id": "USx73EJQhee0",
        "outputId": "97f35428-77c3-489c-be23-a17678e65732"
      },
      "execution_count": 6,
      "outputs": [
        {
          "output_type": "stream",
          "name": "stdout",
          "text": [
            "\n",
            "Entrez Direct has been successfully downloaded and installed.\n",
            "\n",
            "In order to complete the configuration process, please execute the following:\n",
            "\n",
            "  echo \"export PATH=\\${PATH}:/root/edirect\" >> ${HOME}/.bashrc\n",
            "\n",
            "or manually edit the PATH variable assignment in your .bashrc file.\n",
            "\n",
            "Would you like to do that automatically now? [y/N]\n",
            "y\n",
            "OK, done.\n",
            "\n",
            "To activate EDirect for this terminal session, please execute the following:\n",
            "\n",
            "export PATH=${PATH}:${HOME}/edirect\n",
            "\n"
          ]
        }
      ]
    },
    {
      "cell_type": "code",
      "source": [
        "!$HOME/edirect/efetch -db nuccore -id HF680312 -format gb  >  T_oleivorans_MIL_1.gbk"
      ],
      "metadata": {
        "id": "Sss6FE-3hoex"
      },
      "execution_count": 7,
      "outputs": []
    },
    {
      "cell_type": "markdown",
      "source": [
        "Установка Biopython."
      ],
      "metadata": {
        "id": "y0b0XfO9hvTh"
      }
    },
    {
      "cell_type": "code",
      "source": [
        "!pip install biopython\n",
        "from Bio import SeqIO, SearchIO\n",
        "from Bio.SeqFeature import SeqFeature, FeatureLocation"
      ],
      "metadata": {
        "colab": {
          "base_uri": "https://localhost:8080/"
        },
        "id": "pfP2Y39Sh5co",
        "outputId": "c3e511f7-a41d-479a-8a57-5ebf938c6c02"
      },
      "execution_count": 24,
      "outputs": [
        {
          "output_type": "stream",
          "name": "stdout",
          "text": [
            "Looking in indexes: https://pypi.org/simple, https://us-python.pkg.dev/colab-wheels/public/simple/\n",
            "Requirement already satisfied: biopython in /usr/local/lib/python3.7/dist-packages (1.79)\n",
            "Requirement already satisfied: numpy in /usr/local/lib/python3.7/dist-packages (from biopython) (1.21.6)\n"
          ]
        }
      ]
    },
    {
      "cell_type": "markdown",
      "source": [
        "Установка других библиотек."
      ],
      "metadata": {
        "id": "dRylDHetiikL"
      }
    },
    {
      "cell_type": "code",
      "source": [
        "import pandas as pd"
      ],
      "metadata": {
        "id": "-3DIXBr3ig9F"
      },
      "execution_count": 9,
      "outputs": []
    },
    {
      "cell_type": "markdown",
      "source": [
        "# Аннотация генома."
      ],
      "metadata": {
        "id": "6F0gdp9pjI3q"
      }
    },
    {
      "cell_type": "code",
      "source": [
        "!head -n 20 gms2.lst"
      ],
      "metadata": {
        "colab": {
          "base_uri": "https://localhost:8080/"
        },
        "id": "DPXDZfBXjL0d",
        "outputId": "81dc3b60-5bd2-4dbb-d053-2b6f4f828383"
      },
      "execution_count": null,
      "outputs": [
        {
          "output_type": "stream",
          "name": "stdout",
          "text": [
            "# GeneMark.hmm-2 LST format\n",
            "# GeneMark.hmm-2 prokaryotic version: 1.25_lic\n",
            "# File with sequence: scaffolds.fa\n",
            "# File with native parameters: GMS2.mod\n",
            "# Native species name and build: unspecified GeneMarkS-2-1.14_1.25_lic\n",
            "# File with MetaGeneMark parameters: /content/gms2_linux_64/mgm_11.mod\n",
            "# translation table: 11\n",
            "# output date start: Thu Oct 13 03:07:31 2022\n",
            "\n",
            "# sequence-region 1 3877541\n",
            "SequenceID: scaffold1_cov232\n",
            "     1   -   <3    299     297 native AGGTGT 3 1\n",
            "     2   -    372    815     444 atypical GCGAGA 5 1\n",
            "     3   -    840    1361     522 atypical AGGAAG 6 1\n",
            "     4   -    1799    2626     828 atypical AGGATT 9 1\n",
            "     5   +    2972    3094     123 native TGGAGG 6 1\n",
            "     6   -    3269    4030     762 native CTGATT 5 1\n",
            "     7   -    4341    5516    1176 native AGGAGA 8 1\n",
            "     8   -    5541    7688    2148 native TGGAGA 7 1\n",
            "     9   +    8057    8851     795 native AAGTAG 6 1\n"
          ]
        }
      ]
    },
    {
      "cell_type": "code",
      "source": [
        "scaffolds = dict()\n",
        "for scaf in SeqIO.parse(\"scaffolds.fa\", \"fasta\"):\n",
        "    scaf.annotations['molecule_type'] = 'DNA'\n",
        "    scaffolds[scaf.id] = scaf"
      ],
      "metadata": {
        "id": "wdZD1rjIjXzG"
      },
      "execution_count": 12,
      "outputs": []
    },
    {
      "cell_type": "markdown",
      "source": [
        "Добавляем координаты и трансляции генов"
      ],
      "metadata": {
        "id": "-A9bUOHVmUFE"
      }
    },
    {
      "cell_type": "code",
      "source": [
        "proteins = [transcript for transcript in SeqIO.parse(\"proteins.fasta\", \"fasta\")]\n",
        "proteins[1]"
      ],
      "metadata": {
        "colab": {
          "base_uri": "https://localhost:8080/"
        },
        "id": "JfwPpUM7Bqsn",
        "outputId": "31171f5f-6840-4a7e-e1d9-4a97af9b5c10"
      },
      "execution_count": 13,
      "outputs": [
        {
          "output_type": "execute_result",
          "data": {
            "text/plain": [
              "SeqRecord(seq=Seq('VKFEIIPNVGAGPILLGMSRDEVKNILGKNYHSGSSKNSEYYFKNSIQVEFLDG...KKA'), id='2', name='2', description='2 scaffold1_cov232 372 815 - gene_type=atypical', dbxrefs=[])"
            ]
          },
          "metadata": {},
          "execution_count": 13
        }
      ]
    },
    {
      "cell_type": "code",
      "source": [
        "scaffolds['scaffold1_cov232'].features"
      ],
      "metadata": {
        "colab": {
          "base_uri": "https://localhost:8080/"
        },
        "id": "md2M5qlhFDvz",
        "outputId": "02163963-d53c-4b9e-effe-fc32a497f87e"
      },
      "execution_count": 15,
      "outputs": [
        {
          "output_type": "execute_result",
          "data": {
            "text/plain": [
              "[]"
            ]
          },
          "metadata": {},
          "execution_count": 15
        }
      ]
    },
    {
      "cell_type": "code",
      "source": [
        "for transcript in SeqIO.parse(\"proteins.fasta\", \"fasta\"):\n",
        "    info = transcript.description.split(' ')\n",
        "    if info[4] == '+':\n",
        "        strand = 1\n",
        "    else:\n",
        "        strand = -1\n",
        "    scf = SeqFeature(FeatureLocation(int(info[2]), int(info[3]), strand=strand), type=\"CDS\")\n",
        "    scf.qualifiers['locus_tag'] = [info[0]]\n",
        "    scf.qualifiers['translation'] = [transcript.seq]\n",
        "    scaffolds[info[1]].features.append(scf)"
      ],
      "metadata": {
        "id": "EUztpSV-BKi6"
      },
      "execution_count": 17,
      "outputs": []
    },
    {
      "cell_type": "markdown",
      "source": [
        "Добавляем функции белков (из бактерии MIL-1)"
      ],
      "metadata": {
        "id": "eKVnGnKbsKQx"
      }
    },
    {
      "cell_type": "code",
      "source": [
        "mil_1_genome = SeqIO.read(\"/content/T_oleivorans_MIL_1.gbk\", \"genbank\")\n",
        "mil_fs = dict()\n",
        "for  mil_f in mil_1_genome.features:\n",
        "    if 'protein_id' not in mil_f.qualifiers:\n",
        "        continue\n",
        "    mil_fs[mil_f.qualifiers['protein_id'][0]] = mil_f.qualifiers['product']"
      ],
      "metadata": {
        "id": "yhIia3cUsPHx"
      },
      "execution_count": 22,
      "outputs": []
    },
    {
      "cell_type": "code",
      "source": [
        "names = ['qseqid', 'sseqid', 'pident', 'length', 'mismatch', 'gapopen', 'qstart', 'qend', 'sstart', 'send', 'evalue', 'bitscore']\n",
        "mil_hits = pd.read_csv('scaffolds.hits_from_MIL_1.txt', sep='\\t', header=None, names=names)\n",
        "mil_hits = mil_hits[mil_hits['sseqid'].str.contains(\"CCU\")].sort_values('bitscore', ascending=False).drop_duplicates('qseqid')"
      ],
      "metadata": {
        "id": "kT1kFSxwIANu"
      },
      "execution_count": 34,
      "outputs": []
    },
    {
      "cell_type": "code",
      "source": [
        "for i, mil_hit in mil_hits.iterrows():\n",
        "    if str(mil_hit['qseqid']) in scaffolds:\n",
        "        scaffolds[str(mil_hit['qseqid'])].qualifiers['product'] = mil_fs[mil_hit['sseqid'].split('_')[2]]"
      ],
      "metadata": {
        "id": "bukr9D3HR3rl"
      },
      "execution_count": 36,
      "outputs": []
    },
    {
      "cell_type": "markdown",
      "source": [
        "Добавляем функции белков (из БД SwissProt)"
      ],
      "metadata": {
        "id": "DK9iL4bPsNcX"
      }
    },
    {
      "cell_type": "code",
      "source": [
        "!wget https://ftp.uniprot.org/pub/databases/uniprot/current_release/knowledgebase/complete/uniprot_sprot.dat.gz\n",
        "!gzip -d uniprot_sprot.dat.gz\n",
        "!grep '^ID\\|^DE   RecName: Full=' uniprot_sprot.dat > SwissProt_names.txt"
      ],
      "metadata": {
        "colab": {
          "base_uri": "https://localhost:8080/"
        },
        "id": "C-ZADl32PqHM",
        "outputId": "41e0a572-6469-4e68-bd1c-70506ea0d75a"
      },
      "execution_count": 31,
      "outputs": [
        {
          "output_type": "stream",
          "name": "stdout",
          "text": [
            "--2022-10-19 03:17:20--  https://ftp.uniprot.org/pub/databases/uniprot/current_release/knowledgebase/complete/uniprot_sprot.dat.gz\n",
            "Resolving ftp.uniprot.org (ftp.uniprot.org)... 128.175.240.195\n",
            "Connecting to ftp.uniprot.org (ftp.uniprot.org)|128.175.240.195|:443... connected.\n",
            "HTTP request sent, awaiting response... 200 OK\n",
            "Length: 642093634 (612M) [application/x-gzip]\n",
            "Saving to: ‘uniprot_sprot.dat.gz’\n",
            "\n",
            "uniprot_sprot.dat.g 100%[===================>] 612.35M  21.3MB/s    in 21s     \n",
            "\n",
            "2022-10-19 03:17:41 (29.8 MB/s) - ‘uniprot_sprot.dat.gz’ saved [642093634/642093634]\n",
            "\n"
          ]
        }
      ]
    },
    {
      "cell_type": "code",
      "source": [
        "previd = None\n",
        "swissprot = dict()\n",
        "for line in open('SwissProt_names.txt'):\n",
        "  if line.startswith('ID'):\n",
        "    previd = line.split()[1]\n",
        "  if line.startswith('DE'):\n",
        "    swissprot[previd] = line.split('=')[1][:-2]"
      ],
      "metadata": {
        "id": "g_lQ0kw0QAc1"
      },
      "execution_count": 32,
      "outputs": []
    },
    {
      "cell_type": "code",
      "source": [
        "swiss_hits = pd.read_csv('scaffolds.hits_from_SwissProt.txt', sep='\\t', header=None, names=names)\n",
        "swiss_hits = swiss_hits.sort_values('bitscore', ascending=False).drop_duplicates('qseqid')"
      ],
      "metadata": {
        "id": "aIrqiBmBQYS3"
      },
      "execution_count": 37,
      "outputs": []
    },
    {
      "cell_type": "code",
      "source": [
        "for i, swiss_hit in swiss_hits.iterrows():\n",
        "    if str(swiss_hit['qseqid']) in scaffolds:\n",
        "        scaffolds[str(mil_hit['qseqid'])].qualifiers['product'] = swissprot[swiss_hit['sseqid'].split('|')[-1]]"
      ],
      "metadata": {
        "id": "_VnmTIEvTaDK"
      },
      "execution_count": 38,
      "outputs": []
    },
    {
      "cell_type": "markdown",
      "source": [
        "Собираем"
      ],
      "metadata": {
        "id": "5FtgI1SmUSCt"
      }
    },
    {
      "cell_type": "code",
      "source": [
        "SeqIO.write(scaffolds.values(), \"GENOME.gbk\", \"genbank\")"
      ],
      "metadata": {
        "colab": {
          "base_uri": "https://localhost:8080/"
        },
        "id": "8XMCBouzUDKi",
        "outputId": "d23ab0ba-e31a-4706-f6f8-e4326346f927"
      },
      "execution_count": 39,
      "outputs": [
        {
          "output_type": "execute_result",
          "data": {
            "text/plain": [
              "70"
            ]
          },
          "metadata": {},
          "execution_count": 39
        }
      ]
    }
  ]
}